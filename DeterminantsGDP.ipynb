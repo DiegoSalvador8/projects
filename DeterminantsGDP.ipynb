{
 "cells": [
  {
   "cell_type": "markdown",
   "id": "e5461edc",
   "metadata": {},
   "source": [
    "**Determinants of GDP across countries (2000-2023)** (candidate project for Master thesis)\n",
    "\n",
    "How do unemployment rate, inflation, and population affect GDP across countries over time? \n",
    "\n",
    "- Countries: United States, Canada, Germany, United Kingdom, France, Japan, Australia, South Korea.\n",
    "- Data: panel data\n",
    "- Frequency: yearly\n",
    "- Source: World Bank\n"
   ]
  },
  {
   "cell_type": "code",
   "execution_count": null,
   "id": "f4096052",
   "metadata": {},
   "outputs": [],
   "source": [
    "import pandas as pd\n",
    "import numpy as np\n",
    "import matplotlib.pyplot as plt\n",
    "import seaborn as sns\n",
    "import statsmodels.api as sm\n",
    "from linearmodels.panel import PanelOLS\n",
    "from linearmodels.panel import RandomEffects\n",
    "import statsmodels.api as sm"
   ]
  },
  {
   "cell_type": "code",
   "execution_count": 3,
   "id": "5a1afaec",
   "metadata": {},
   "outputs": [
    {
     "name": "stdout",
     "output_type": "stream",
     "text": [
      "         Series Name     Series Code    Country Name Country Code  \\\n",
      "0  GDP (current US$)  NY.GDP.MKTP.CD   United States          USA   \n",
      "1  GDP (current US$)  NY.GDP.MKTP.CD          Canada          CAN   \n",
      "2  GDP (current US$)  NY.GDP.MKTP.CD         Germany          DEU   \n",
      "3  GDP (current US$)  NY.GDP.MKTP.CD  United Kingdom          GBR   \n",
      "4  GDP (current US$)  NY.GDP.MKTP.CD          France          FRA   \n",
      "\n",
      "   2000 [YR2000]  2001 [YR2001]  2002 [YR2002]  2003 [YR2003]  2004 [YR2004]  \\\n",
      "0   1.025100e+13   1.058190e+13   1.092910e+13   1.145650e+13   1.221720e+13   \n",
      "1   7.447730e+11   7.389820e+11   7.606490e+11   8.955410e+11   1.026690e+12   \n",
      "2   1.966980e+12   1.966380e+12   2.102350e+12   2.534720e+12   2.852320e+12   \n",
      "3   1.665530e+12   1.649830e+12   1.785730e+12   2.054420e+12   2.421530e+12   \n",
      "4   1.360960e+12   1.370380e+12   1.492430e+12   1.835100e+12   2.109790e+12   \n",
      "\n",
      "   2005 [YR2005]  ...  2014 [YR2014]  2015 [YR2015]  2016 [YR2016]  \\\n",
      "0   1.303920e+13  ...   1.760810e+13   1.829500e+13   1.880490e+13   \n",
      "1   1.173110e+12  ...   1.805750e+12   1.556510e+12   1.527990e+12   \n",
      "2   2.893390e+12  ...   3.965800e+12   3.423570e+12   3.537780e+12   \n",
      "3   2.543180e+12  ...   3.064710e+12   2.927910e+12   2.689110e+12   \n",
      "4   2.192150e+12  ...   2.861240e+12   2.442480e+12   2.470410e+12   \n",
      "\n",
      "   2017 [YR2017]  2018 [YR2018]  2019 [YR2019]  2020 [YR2020]  2021 [YR2021]  \\\n",
      "0   1.961210e+13   2.065650e+13   2.154000e+13   2.135410e+13   2.368120e+13   \n",
      "1   1.649270e+12   1.725330e+12   1.743730e+12   1.655680e+12   2.007470e+12   \n",
      "2   3.763090e+12   4.052010e+12   3.957210e+12   3.940140e+12   4.348300e+12   \n",
      "3   2.680150e+12   2.871340e+12   2.851410e+12   2.696780e+12   3.143320e+12   \n",
      "4   2.588870e+12   2.781580e+12   2.722790e+12   2.647930e+12   2.966430e+12   \n",
      "\n",
      "   2022 [YR2022]  2023 [YR2023]  \n",
      "0   2.600690e+13   2.772070e+13  \n",
      "1   2.161480e+12   2.142470e+12  \n",
      "2   4.163600e+12   4.525700e+12  \n",
      "3   3.114040e+12   3.380850e+12  \n",
      "4   2.796300e+12   3.051830e+12  \n",
      "\n",
      "[5 rows x 28 columns]\n"
     ]
    }
   ],
   "source": [
    "GDP = pd.read_csv('GDP_data.csv')\n",
    "print(GDP.head())\n"
   ]
  },
  {
   "cell_type": "code",
   "execution_count": 7,
   "id": "10298c3a",
   "metadata": {},
   "outputs": [
    {
     "name": "stdout",
     "output_type": "stream",
     "text": [
      "     Country Name Country Code        Series Name     Series Code  Year  \\\n",
      "0   United States          USA  GDP (current US$)  NY.GDP.MKTP.CD  2000   \n",
      "1          Canada          CAN  GDP (current US$)  NY.GDP.MKTP.CD  2000   \n",
      "2         Germany          DEU  GDP (current US$)  NY.GDP.MKTP.CD  2000   \n",
      "3  United Kingdom          GBR  GDP (current US$)  NY.GDP.MKTP.CD  2000   \n",
      "4          France          FRA  GDP (current US$)  NY.GDP.MKTP.CD  2000   \n",
      "\n",
      "            GDP  \n",
      "0  1.025100e+13  \n",
      "1  7.447730e+11  \n",
      "2  1.966980e+12  \n",
      "3  1.665530e+12  \n",
      "4  1.360960e+12  \n"
     ]
    },
    {
     "name": "stderr",
     "output_type": "stream",
     "text": [
      "<>:7: SyntaxWarning: invalid escape sequence '\\d'\n",
      "<>:7: SyntaxWarning: invalid escape sequence '\\d'\n",
      "C:\\Users\\diego\\AppData\\Local\\Temp\\ipykernel_7892\\1203311427.py:7: SyntaxWarning: invalid escape sequence '\\d'\n",
      "  GDP_long['Year'] = GDP_long['Year'].str.extract('(\\d{4})').astype(int)\n"
     ]
    }
   ],
   "source": [
    "GDP_long = pd.melt(GDP, \n",
    "                   id_vars=['Country Name', 'Country Code', 'Series Name', 'Series Code'], \n",
    "                   var_name='Year', \n",
    "                   value_name='GDP')\n",
    "\n",
    "# Clean the 'Year' column\n",
    "GDP_long['Year'] = GDP_long['Year'].str.extract('(\\d{4})').astype(int)\n",
    "\n",
    "print(GDP_long.head())\n",
    "# The reason for doing this part of the code is to reshape the GDP data from a wide format to a long format.\n",
    "# In the wide format, each year is a separate column, which makes it difficult to analyze trends over time or perform panel data analysis.\n",
    "# By melting the DataFrame, we convert it into a long format where each row represents a single observation of GDP for a specific country and year.\n",
    "# This format is more suitable for time series analysis and allows us to easily group and aggregate the data by country and year."
   ]
  },
  {
   "cell_type": "code",
   "execution_count": 8,
   "id": "f5c0f98c",
   "metadata": {},
   "outputs": [
    {
     "name": "stdout",
     "output_type": "stream",
     "text": [
      "     Country Name Country Code                            Series Name  \\\n",
      "0   United States          USA  Inflation, consumer prices (annual %)   \n",
      "1          Canada          CAN  Inflation, consumer prices (annual %)   \n",
      "2         Germany          DEU  Inflation, consumer prices (annual %)   \n",
      "3  United Kingdom          GBR  Inflation, consumer prices (annual %)   \n",
      "4          France          FRA  Inflation, consumer prices (annual %)   \n",
      "\n",
      "      Series Code  Year  Inflation Rate  \n",
      "0  FP.CPI.TOTL.ZG  2000        3.376857  \n",
      "1  FP.CPI.TOTL.ZG  2000        2.719440  \n",
      "2  FP.CPI.TOTL.ZG  2000        1.440268  \n",
      "3  FP.CPI.TOTL.ZG  2000        1.182956  \n",
      "4  FP.CPI.TOTL.ZG  2000        1.675960  \n"
     ]
    },
    {
     "name": "stderr",
     "output_type": "stream",
     "text": [
      "<>:10: SyntaxWarning: invalid escape sequence '\\d'\n",
      "<>:10: SyntaxWarning: invalid escape sequence '\\d'\n",
      "C:\\Users\\diego\\AppData\\Local\\Temp\\ipykernel_7892\\2666278588.py:10: SyntaxWarning: invalid escape sequence '\\d'\n",
      "  Inflation_long['Year'] = Inflation_long['Year'].str.extract('(\\d{4})').astype(int)\n"
     ]
    }
   ],
   "source": [
    "# Do the same process for the remaining variables for this project. Note that the data was conventionally stored in wide format, with each year as a separate column. \n",
    "Inflation = pd.read_csv('Inflation_data.csv')\n",
    "\n",
    "Inflation_long = pd.melt(Inflation, \n",
    "                   id_vars=['Country Name', 'Country Code', 'Series Name', 'Series Code'], \n",
    "                   var_name='Year', \n",
    "                   value_name='Inflation Rate')\n",
    "\n",
    "# Clean the 'Year' column\n",
    "Inflation_long['Year'] = Inflation_long['Year'].str.extract('(\\d{4})').astype(int)\n",
    "\n",
    "print(Inflation_long.head())\n"
   ]
  },
  {
   "cell_type": "code",
   "execution_count": 12,
   "id": "f135ee8e",
   "metadata": {},
   "outputs": [
    {
     "name": "stdout",
     "output_type": "stream",
     "text": [
      "     Country Name Country Code        Series Name  Series Code  Year  \\\n",
      "0   United States          USA  Population, total  SP.POP.TOTL  2000   \n",
      "1          Canada          CAN  Population, total  SP.POP.TOTL  2000   \n",
      "2         Germany          DEU  Population, total  SP.POP.TOTL  2000   \n",
      "3  United Kingdom          GBR  Population, total  SP.POP.TOTL  2000   \n",
      "4          France          FRA  Population, total  SP.POP.TOTL  2000   \n",
      "\n",
      "    Population  \n",
      "0  282162411.0  \n",
      "1   30685730.0  \n",
      "2   82211508.0  \n",
      "3   58892514.0  \n",
      "4   60918661.0  \n"
     ]
    },
    {
     "name": "stderr",
     "output_type": "stream",
     "text": [
      "<>:9: SyntaxWarning: invalid escape sequence '\\d'\n",
      "<>:9: SyntaxWarning: invalid escape sequence '\\d'\n",
      "C:\\Users\\diego\\AppData\\Local\\Temp\\ipykernel_7892\\1438613017.py:9: SyntaxWarning: invalid escape sequence '\\d'\n",
      "  Population_long['Year'] = Population_long['Year'].str.extract('(\\d{4})').astype(int)\n"
     ]
    }
   ],
   "source": [
    "Population = pd.read_csv('Population_data.csv')\n",
    "\n",
    "Population_long = pd.melt(Population, \n",
    "                   id_vars=['Country Name', 'Country Code', 'Series Name', 'Series Code'], \n",
    "                   var_name='Year', \n",
    "                   value_name='Population')\n",
    "\n",
    "# Clean the 'Year' column\n",
    "Population_long['Year'] = Population_long['Year'].str.extract('(\\d{4})').astype(int)\n",
    "\n",
    "print(Population_long.head())"
   ]
  },
  {
   "cell_type": "code",
   "execution_count": 10,
   "id": "0863318d",
   "metadata": {},
   "outputs": [
    {
     "name": "stdout",
     "output_type": "stream",
     "text": [
      "     Country Name Country Code  \\\n",
      "0   United States          USA   \n",
      "1          Canada          CAN   \n",
      "2         Germany          DEU   \n",
      "3  United Kingdom          GBR   \n",
      "4          France          FRA   \n",
      "\n",
      "                                         Series Name     Series Code  Year  \\\n",
      "0  Unemployment, total (% of total labor force) (...  SL.UEM.TOTL.ZS  2000   \n",
      "1  Unemployment, total (% of total labor force) (...  SL.UEM.TOTL.ZS  2000   \n",
      "2  Unemployment, total (% of total labor force) (...  SL.UEM.TOTL.ZS  2000   \n",
      "3  Unemployment, total (% of total labor force) (...  SL.UEM.TOTL.ZS  2000   \n",
      "4  Unemployment, total (% of total labor force) (...  SL.UEM.TOTL.ZS  2000   \n",
      "\n",
      "   Unemployment Rate  \n",
      "0              3.992  \n",
      "1              6.829  \n",
      "2              7.917  \n",
      "3              5.558  \n",
      "4             10.218  \n"
     ]
    },
    {
     "name": "stderr",
     "output_type": "stream",
     "text": [
      "<>:9: SyntaxWarning: invalid escape sequence '\\d'\n",
      "<>:9: SyntaxWarning: invalid escape sequence '\\d'\n",
      "C:\\Users\\diego\\AppData\\Local\\Temp\\ipykernel_7892\\428736627.py:9: SyntaxWarning: invalid escape sequence '\\d'\n",
      "  Unemployment_long['Year'] = Unemployment_long['Year'].str.extract('(\\d{4})').astype(int)\n"
     ]
    }
   ],
   "source": [
    "Unemployment = pd.read_csv('Unemployment_data.csv')\n",
    "\n",
    "Unemployment_long = pd.melt(Unemployment, \n",
    "                   id_vars=['Country Name', 'Country Code', 'Series Name', 'Series Code'], \n",
    "                   var_name='Year', \n",
    "                   value_name='Unemployment Rate')\n",
    "\n",
    "# Clean the 'Year' column\n",
    "Unemployment_long['Year'] = Unemployment_long['Year'].str.extract('(\\d{4})').astype(int)\n",
    "\n",
    "print(Unemployment_long.head())"
   ]
  },
  {
   "cell_type": "code",
   "execution_count": null,
   "id": "bb9c6836",
   "metadata": {},
   "outputs": [
    {
     "name": "stdout",
     "output_type": "stream",
     "text": [
      "                     Country Name           GDP  Unemployment Rate  \\\n",
      "Country Code Year                                                    \n",
      "USA          2000   United States  1.025100e+13              3.992   \n",
      "CAN          2000          Canada  7.447730e+11              6.829   \n",
      "DEU          2000         Germany  1.966980e+12              7.917   \n",
      "GBR          2000  United Kingdom  1.665530e+12              5.558   \n",
      "FRA          2000          France  1.360960e+12             10.218   \n",
      "\n",
      "                   Inflation Rate   Population  \n",
      "Country Code Year                               \n",
      "USA          2000        3.376857  282162411.0  \n",
      "CAN          2000        2.719440   30685730.0  \n",
      "DEU          2000        1.440268   82211508.0  \n",
      "GBR          2000        1.182956   58892514.0  \n",
      "FRA          2000        1.675960   60918661.0  \n"
     ]
    }
   ],
   "source": [
    "# Merge, keeping only necessary columns to avoid duplicate column names\n",
    "df = GDP_long[['Country Name', 'Country Code', 'Year', 'GDP']].merge(\n",
    "\tUnemployment_long[['Country Name', 'Country Code', 'Year', 'Unemployment Rate']],\n",
    "\ton=['Country Name', 'Country Code', 'Year']\n",
    ")\n",
    "df = df.merge(\n",
    "\tInflation_long[['Country Name', 'Country Code', 'Year', 'Inflation Rate']],\n",
    "\ton=['Country Name', 'Country Code', 'Year']\n",
    ")\n",
    "df = df.merge(\n",
    "\tPopulation_long[['Country Name', 'Country Code', 'Year', 'Population']],\n",
    "\ton=['Country Name', 'Country Code', 'Year']\n",
    ")\n",
    "\n",
    "# Drop missing values\n",
    "df.dropna(inplace=True)\n",
    "\n",
    "# Set panel structure\n",
    "df.set_index(['Country Code', 'Year'], inplace=True)\n",
    "\n",
    "print(df.head())"
   ]
  },
  {
   "cell_type": "code",
   "execution_count": null,
   "id": "1efd83e6",
   "metadata": {},
   "outputs": [
    {
     "name": "stdout",
     "output_type": "stream",
     "text": [
      "                GDP  Unemployment Rate  Inflation Rate\n",
      "count  1.680000e+02         168.000000      168.000000\n",
      "mean   4.713396e+12           6.100357        1.995930\n",
      "std    5.441486e+12           2.070536        1.619550\n",
      "min    3.796290e+11           2.351000       -1.352837\n",
      "25%    1.684528e+12           4.607500        1.086413\n",
      "50%    2.790575e+12           5.627500        1.794541\n",
      "75%    4.539212e+12           7.674750        2.587021\n",
      "max    2.772070e+13          11.193000        8.002800\n"
     ]
    },
    {
     "data": {
      "image/png": "[encoded data removed]",
      "text/plain": [
       "<Figure size 640x480 with 2 Axes>"
      ]
     },
     "metadata": {},
     "output_type": "display_data"
    },
    {
     "data": {
      "image/png": "[encoded data removed]",
      "text/plain": [
       "<Figure size 640x480 with 1 Axes>"
      ]
     },
     "metadata": {},
     "output_type": "display_data"
    }
   ],
   "source": [
    "# Summary statistics\n",
    "print(df.describe())\n",
    "\n",
    "# Correlation heatmap (only numeric columns)\n",
    "df['Population'] = pd.to_numeric(df['Population'], errors='coerce') # It did not recognize Population as numeric, so this fixes it. \n",
    "numeric_df = df.select_dtypes(include=[np.number])\n",
    "sns.heatmap(numeric_df.corr(), annot=True, cmap='coolwarm')\n",
    "plt.title('Correlation Matrix')\n",
    "plt.show()\n",
    "\n",
    "# Plot GDP trends\n",
    "df.reset_index(inplace=True)\n",
    "sns.lineplot(data=df, x='Year', y='GDP', hue='Country Name')\n",
    "plt.title('GDP Trends')\n",
    "plt.show()\n",
    "\n",
    "# Reset index to panel structure\n",
    "df.set_index(['Country Code', 'Year'], inplace=True)\n"
   ]
  },
  {
   "cell_type": "markdown",
   "id": "ba57d1af",
   "metadata": {},
   "source": [
    "- Low correlation among all variables with the expection of GDP and population, with 0.95. This is not alarming, given that it is logical that a higher population implies a higher workforce, which results in a higher GDP. \n",
    "- Evident increasing trend in GDP for the United States in comparison with the other countries observed. "
   ]
  },
  {
   "cell_type": "code",
   "execution_count": null,
   "id": "287e34c3",
   "metadata": {},
   "outputs": [
    {
     "name": "stdout",
     "output_type": "stream",
     "text": [
      "                            OLS Regression Results                            \n",
      "==============================================================================\n",
      "Dep. Variable:                    GDP   R-squared:                       0.920\n",
      "Model:                            OLS   Adj. R-squared:                  0.918\n",
      "Method:                 Least Squares   F-statistic:                     625.9\n",
      "Date:                Sun, 22 Jun 2025   Prob (F-statistic):           1.56e-89\n",
      "Time:                        21:25:19   Log-Likelihood:                -4952.7\n",
      "No. Observations:                 168   AIC:                             9913.\n",
      "Df Residuals:                     164   BIC:                             9926.\n",
      "Df Model:                           3                                         \n",
      "Covariance Type:            nonrobust                                         \n",
      "=====================================================================================\n",
      "                        coef    std err          t      P>|t|      [0.025      0.975]\n",
      "-------------------------------------------------------------------------------------\n",
      "const             -1.535e+12   4.71e+11     -3.261      0.001   -2.46e+12   -6.06e+11\n",
      "Unemployment Rate -1.934e+10   5.97e+10     -0.324      0.746   -1.37e+11    9.85e+10\n",
      "Inflation Rate     3.361e+11   7.53e+10      4.467      0.000    1.88e+11    4.85e+11\n",
      "Population         5.643e+04   1328.918     42.465      0.000    5.38e+04    5.91e+04\n",
      "==============================================================================\n",
      "Omnibus:                       69.059   Durbin-Watson:                   1.691\n",
      "Prob(Omnibus):                  0.000   Jarque-Bera (JB):              655.772\n",
      "Skew:                           1.190   Prob(JB):                    3.99e-143\n",
      "Kurtosis:                      12.382   Cond. No.                     5.39e+08\n",
      "==============================================================================\n",
      "\n",
      "Notes:\n",
      "[1] Standard Errors assume that the covariance matrix of the errors is correctly specified.\n",
      "[2] The condition number is large, 5.39e+08. This might indicate that there are\n",
      "strong multicollinearity or other numerical problems.\n"
     ]
    }
   ],
   "source": [
    "# Panel data models\n",
    "# Pooled OLS model\n",
    "# This model assumes that the relationship between the dependent and independent variables is the same across all countries.\n",
    "y = df['GDP']\n",
    "X = df[['Unemployment Rate', 'Inflation Rate', 'Population']]\n",
    "X = sm.add_constant(X)\n",
    "\n",
    "pooled_ols = sm.OLS(y, X).fit()\n",
    "print(pooled_ols.summary())"
   ]
  },
  {
   "cell_type": "markdown",
   "id": "327c8593",
   "metadata": {},
   "source": [
    "- The relationship between unemployment rate and GDP is not statistically significant, which is counterintuitive. "
   ]
  },
  {
   "cell_type": "code",
   "execution_count": 26,
   "id": "a1d949ad",
   "metadata": {},
   "outputs": [
    {
     "name": "stdout",
     "output_type": "stream",
     "text": [
      "                          PanelOLS Estimation Summary                           \n",
      "================================================================================\n",
      "Dep. Variable:                    GDP   R-squared:                        0.8756\n",
      "Estimator:                   PanelOLS   R-squared (Between):             -15.024\n",
      "No. Observations:                 168   R-squared (Within):               0.8756\n",
      "Date:                Sun, Jun 22 2025   R-squared (Overall):             -13.978\n",
      "Time:                        21:31:08   Log-likelihood                   -4808.0\n",
      "Cov. Estimator:                Robust                                           \n",
      "                                        F-statistic:                      370.79\n",
      "Entities:                           7   P-value                           0.0000\n",
      "Avg Obs:                       24.000   Distribution:                   F(3,158)\n",
      "Min Obs:                       24.000                                           \n",
      "Max Obs:                       24.000   F-statistic (robust):             90.080\n",
      "                                        P-value                           0.0000\n",
      "Time periods:                      24   Distribution:                   F(3,158)\n",
      "Avg Obs:                       7.0000                                           \n",
      "Min Obs:                       7.0000                                           \n",
      "Max Obs:                       7.0000                                           \n",
      "                                                                                \n",
      "                                 Parameter Estimates                                 \n",
      "=====================================================================================\n",
      "                   Parameter  Std. Err.     T-stat    P-value    Lower CI    Upper CI\n",
      "-------------------------------------------------------------------------------------\n",
      "Unemployment Rate -1.517e+11  3.395e+10    -4.4695     0.0000  -2.188e+11  -8.469e+10\n",
      "Inflation Rate     6.496e+10      6e+10     1.0826     0.2806  -5.355e+10   1.835e+11\n",
      "Population         2.589e+05  1.763e+04     14.687     0.0000   2.241e+05   2.937e+05\n",
      "=====================================================================================\n",
      "\n",
      "F-test for Poolability: 121.04\n",
      "P-value: 0.0000\n",
      "Distribution: F(6,158)\n",
      "\n",
      "Included effects: Entity\n"
     ]
    }
   ],
   "source": [
    "# Fixed Effects model\n",
    "# This model accounts for country-specific effects that do not change over time.\n",
    "fe_model = PanelOLS.from_formula('GDP ~ `Unemployment Rate` + `Inflation Rate` + Population + EntityEffects', data=df)\n",
    "fe_results = fe_model.fit(cov_type='robust')\n",
    "print(fe_results.summary)"
   ]
  },
  {
   "cell_type": "markdown",
   "id": "9215bfa0",
   "metadata": {},
   "source": [
    "Why did it drop the population variable?\n",
    "The population variable was dropped from the fixed effects model because it is perfectly collinear with the entity effects.\n",
    "In a fixed effects model, the entity effects (country-specific effects) capture all time-invariant characteristics of the countries, including population.\n",
    "Therefore, including population as a separate variable would lead to perfect multicollinearity, causing it to be dropped from the model. "
   ]
  },
  {
   "cell_type": "code",
   "execution_count": 29,
   "id": "defa2ea9",
   "metadata": {},
   "outputs": [
    {
     "name": "stdout",
     "output_type": "stream",
     "text": [
      "                        RandomEffects Estimation Summary                        \n",
      "================================================================================\n",
      "Dep. Variable:                    GDP   R-squared:                        0.6121\n",
      "Estimator:              RandomEffects   R-squared (Between):              0.9394\n",
      "No. Observations:                 168   R-squared (Within):               0.4291\n",
      "Date:                Sun, Jun 22 2025   R-squared (Overall):              0.9058\n",
      "Time:                        21:36:03   Log-likelihood                   -4940.9\n",
      "Cov. Estimator:            Unadjusted                                           \n",
      "                                        F-statistic:                      86.806\n",
      "Entities:                           7   P-value                           0.0000\n",
      "Avg Obs:                       24.000   Distribution:                   F(3,165)\n",
      "Min Obs:                       24.000                                           \n",
      "Max Obs:                       24.000   F-statistic (robust):             86.806\n",
      "                                        P-value                           0.0000\n",
      "Time periods:                      24   Distribution:                   F(3,165)\n",
      "Avg Obs:                       7.0000                                           \n",
      "Min Obs:                       7.0000                                           \n",
      "Max Obs:                       7.0000                                           \n",
      "                                                                                \n",
      "                                 Parameter Estimates                                 \n",
      "=====================================================================================\n",
      "                   Parameter  Std. Err.     T-stat    P-value    Lower CI    Upper CI\n",
      "-------------------------------------------------------------------------------------\n",
      "Unemployment Rate -2.659e+11  6.509e+10    -4.0852     0.0001  -3.944e+11  -1.374e+11\n",
      "Inflation Rate     8.405e+10  7.915e+10     1.0620     0.2898  -7.222e+10   2.403e+11\n",
      "Population         6.896e+04     4608.9     14.962     0.0000   5.986e+04   7.806e+04\n",
      "=====================================================================================\n"
     ]
    }
   ],
   "source": [
    "# Random Effects model\n",
    "# This model assumes that the country-specific effects are uncorrelated with the independent variables.\n",
    "re_model = RandomEffects.from_formula('GDP ~ `Unemployment Rate` + `Inflation Rate` + Population', data=df)\n",
    "re_results = re_model.fit()\n",
    "print(re_results.summary)"
   ]
  },
  {
   "cell_type": "markdown",
   "id": "67212cd8",
   "metadata": {},
   "source": [
    "Unemployment rate and Population are statistically significant in this model. "
   ]
  },
  {
   "cell_type": "code",
   "execution_count": 39,
   "id": "626c7689",
   "metadata": {},
   "outputs": [
    {
     "name": "stdout",
     "output_type": "stream",
     "text": [
      "                    Model Comparison                    \n",
      "========================================================\n",
      "                         Fixed Effects    Random Effects\n",
      "--------------------------------------------------------\n",
      "Dep. Variable                      GDP               GDP\n",
      "Estimator                     PanelOLS     RandomEffects\n",
      "No. Observations                   168               168\n",
      "Cov. Est.                       Robust        Unadjusted\n",
      "R-squared                       0.8756            0.6121\n",
      "R-Squared (Within)              0.8756            0.4291\n",
      "R-Squared (Between)            -15.024            0.9394\n",
      "R-Squared (Overall)            -13.978            0.9058\n",
      "F-statistic                     370.79            86.806\n",
      "P-value (F-stat)                0.0000            0.0000\n",
      "=====================     ============   ===============\n",
      "Unemployment Rate           -1.517e+11        -2.659e+11\n",
      "                             (-4.4695)         (-4.0852)\n",
      "Inflation Rate               6.496e+10         8.405e+10\n",
      "                              (1.0826)          (1.0620)\n",
      "Population                   2.589e+05         6.896e+04\n",
      "                              (14.687)          (14.962)\n",
      "======================= ============== =================\n",
      "Effects                         Entity                  \n",
      "--------------------------------------------------------\n",
      "\n",
      "T-stats reported in parentheses\n",
      "Hausman test statistic: 65.58573556052899\n",
      "Hausman test p-value: 3.7636560534792807e-14\n"
     ]
    }
   ],
   "source": [
    "# Model comparison\n",
    "# Compare Fixed Effects and Random Effects models\n",
    "from linearmodels.panel import compare\n",
    "\n",
    "comparison = compare({'Fixed Effects': fe_results, 'Random Effects': re_results})\n",
    "print(comparison)\n",
    "\n",
    "# The 'hausman' function is not available in linearmodels.panel as of recent versions. So, we will implement the Hausman test manually.\n",
    "# Hausman test for Fixed vs Random Effects\n",
    "\n",
    "import numpy as np\n",
    "\n",
    "# Get the coefficients and covariance matrices for the common regressors\n",
    "b_FE = fe_results.params\n",
    "b_RE = re_results.params\n",
    "\n",
    "# Align the coefficients (drop entity effects if present)\n",
    "common_coef = b_FE.index.intersection(b_RE.index)\n",
    "b_FE = b_FE[common_coef]\n",
    "b_RE = b_RE[common_coef]\n",
    "\n",
    "V_FE = fe_results.cov\n",
    "V_RE = re_results.cov\n",
    "V_FE = V_FE.loc[common_coef, common_coef]\n",
    "V_RE = V_RE.loc[common_coef, common_coef]\n",
    "\n",
    "# Hausman test statistic\n",
    "diff = b_FE - b_RE\n",
    "V_diff = V_FE - V_RE\n",
    "stat = float(diff.T @ np.linalg.inv(V_diff) @ diff)\n",
    "df = diff.shape[0]\n",
    "from scipy.stats import chi2\n",
    "pval = 1 - chi2.cdf(stat, df)\n",
    "\n",
    "print(\"Hausman test statistic:\", stat)\n",
    "print(\"Hausman test p-value:\", pval)\n",
    "\n",
    "\n"
   ]
  },
  {
   "cell_type": "markdown",
   "id": "7660abbf",
   "metadata": {},
   "source": [
    "Conclusion: \n",
    "\n",
    "- The results indicate that the Fixed Effects model is preferred over the Random Effects model based on the Hausman test.\n",
    "- The p-value is less than 0.05, suggesting that the country-specific effects are correlated with the independent variables, which is a - key assumption of the Fixed Effects model.\n",
    "- Unemployment rate and Population are statistically significant in this model.\n",
    "- The unemployment rate has a negative coefficient, indicating that higher unemployment is associated with lower GDP.\n",
    "- The population variable is positively associated with GDP, suggesting that larger populations contribute to higher GDP.   "
   ]
  }
 ],
 "metadata": {
  "kernelspec": {
   "display_name": "Python 3",
   "language": "python",
   "name": "python3"
  },
  "language_info": {
   "codemirror_mode": {
    "name": "ipython",
    "version": 3
   },
   "file_extension": ".py",
   "mimetype": "text/x-python",
   "name": "python",
   "nbconvert_exporter": "python",
   "pygments_lexer": "ipython3",
   "version": "3.13.5"
  }
 },
 "nbformat": 4,
 "nbformat_minor": 5
}
